{
 "cells": [
  {
   "cell_type": "code",
   "execution_count": 1,
   "metadata": {
    "collapsed": true
   },
   "outputs": [],
   "source": [
    "from xml.etree import ElementTree as ET\n",
    "import pandas as pd"
   ]
  },
  {
   "cell_type": "markdown",
   "metadata": {},
   "source": [
    "****\n",
    "## XML exercise\n",
    "\n",
    "Using data in 'data/mondial_database.xml', the examples above, and refering to https://docs.python.org/2.7/library/xml.etree.elementtree.html, find\n",
    "\n",
    "1. 10 countries with the lowest infant mortality rates\n",
    "2. 10 cities with the largest population\n",
    "3. 10 ethnic groups with the largest overall populations (sum of best/latest estimates over all countries)\n",
    "4. name and country of a) longest river, b) largest lake and c) airport at highest elevation"
   ]
  },
  {
   "cell_type": "code",
   "execution_count": 5,
   "metadata": {
    "collapsed": true
   },
   "outputs": [],
   "source": [
    "# read data with elementTree\n",
    "doc = ET.parse( './data/mondial_database.xml' )"
   ]
  },
  {
   "cell_type": "code",
   "execution_count": 7,
   "metadata": {
    "collapsed": false
   },
   "outputs": [
    {
     "name": "stdout",
     "output_type": "stream",
     "text": [
      "10 Countries with the Lowest Infant Mortality Rate\n"
     ]
    },
    {
     "data": {
      "text/html": [
       "<div>\n",
       "<table border=\"1\" class=\"dataframe\">\n",
       "  <thead>\n",
       "    <tr style=\"text-align: right;\">\n",
       "      <th></th>\n",
       "      <th>country</th>\n",
       "      <th>inf_mortality_rate</th>\n",
       "    </tr>\n",
       "  </thead>\n",
       "  <tbody>\n",
       "    <tr>\n",
       "      <th>36</th>\n",
       "      <td>Monaco</td>\n",
       "      <td>1.81</td>\n",
       "    </tr>\n",
       "    <tr>\n",
       "      <th>28</th>\n",
       "      <td>Romania</td>\n",
       "      <td>10.16</td>\n",
       "    </tr>\n",
       "    <tr>\n",
       "      <th>142</th>\n",
       "      <td>Fiji</td>\n",
       "      <td>10.2</td>\n",
       "    </tr>\n",
       "    <tr>\n",
       "      <th>63</th>\n",
       "      <td>Brunei</td>\n",
       "      <td>10.48</td>\n",
       "    </tr>\n",
       "    <tr>\n",
       "      <th>124</th>\n",
       "      <td>Grenada</td>\n",
       "      <td>10.5</td>\n",
       "    </tr>\n",
       "    <tr>\n",
       "      <th>221</th>\n",
       "      <td>Mauritius</td>\n",
       "      <td>10.59</td>\n",
       "    </tr>\n",
       "    <tr>\n",
       "      <th>116</th>\n",
       "      <td>Panama</td>\n",
       "      <td>10.7</td>\n",
       "    </tr>\n",
       "    <tr>\n",
       "      <th>227</th>\n",
       "      <td>Seychelles</td>\n",
       "      <td>10.77</td>\n",
       "    </tr>\n",
       "    <tr>\n",
       "      <th>94</th>\n",
       "      <td>United Arab Emirates</td>\n",
       "      <td>10.92</td>\n",
       "    </tr>\n",
       "    <tr>\n",
       "      <th>105</th>\n",
       "      <td>Barbados</td>\n",
       "      <td>10.93</td>\n",
       "    </tr>\n",
       "  </tbody>\n",
       "</table>\n",
       "</div>"
      ],
      "text/plain": [
       "                  country inf_mortality_rate\n",
       "36                 Monaco               1.81\n",
       "28                Romania              10.16\n",
       "142                  Fiji               10.2\n",
       "63                 Brunei              10.48\n",
       "124               Grenada               10.5\n",
       "221             Mauritius              10.59\n",
       "116                Panama               10.7\n",
       "227            Seychelles              10.77\n",
       "94   United Arab Emirates              10.92\n",
       "105              Barbados              10.93"
      ]
     },
     "execution_count": 7,
     "metadata": {},
     "output_type": "execute_result"
    }
   ],
   "source": [
    "## Q1 ## - Find 10 countries with the lowest infant moratilty rate\n",
    "\n",
    "# utilizing the xml library ElementTree\n",
    "# create empty list to append country and inf_moratility rate\n",
    "country_rate = []\n",
    "# iterate through countries\n",
    "# exclude those that have no data for infant_mortality\n",
    "for element in doc.iterfind('country'):    \n",
    "    if element.find('infant_mortality') is not None:\n",
    "        im_rate = element.find('infant_mortality').text\n",
    "        cntry = element.find('name').text\n",
    "        country_rate.append([cntry, im_rate])\n",
    "# create pandas dataframe from list of lists\n",
    "infMort = pd.DataFrame(country_rate, columns=['country', 'inf_mortality_rate'])\n",
    "# sort ascending by infant_mortality rate and show lowest 10 with head method\n",
    "print('10 Countries with the Lowest Infant Mortality Rate')\n",
    "infMort.sort_values('inf_mortality_rate').head(10)"
   ]
  },
  {
   "cell_type": "code",
   "execution_count": 26,
   "metadata": {
    "collapsed": false
   },
   "outputs": [
    {
     "name": "stdout",
     "output_type": "stream",
     "text": [
      "Top 10 Cities by Population\n"
     ]
    },
    {
     "data": {
      "text/html": [
       "<div>\n",
       "<table border=\"1\" class=\"dataframe\">\n",
       "  <thead>\n",
       "    <tr style=\"text-align: right;\">\n",
       "      <th></th>\n",
       "      <th>country</th>\n",
       "      <th>city</th>\n",
       "      <th>population</th>\n",
       "    </tr>\n",
       "  </thead>\n",
       "  <tbody>\n",
       "    <tr>\n",
       "      <th>176</th>\n",
       "      <td>Germany</td>\n",
       "      <td>Cottbus</td>\n",
       "      <td>99984</td>\n",
       "    </tr>\n",
       "    <tr>\n",
       "      <th>519</th>\n",
       "      <td>Russia</td>\n",
       "      <td>Perm</td>\n",
       "      <td>999157</td>\n",
       "    </tr>\n",
       "    <tr>\n",
       "      <th>173</th>\n",
       "      <td>Germany</td>\n",
       "      <td>Erlangen</td>\n",
       "      <td>99808</td>\n",
       "    </tr>\n",
       "    <tr>\n",
       "      <th>2752</th>\n",
       "      <td>Algeria</td>\n",
       "      <td>Laghouat</td>\n",
       "      <td>99536</td>\n",
       "    </tr>\n",
       "    <tr>\n",
       "      <th>2461</th>\n",
       "      <td>Brazil</td>\n",
       "      <td>Alagoinhas</td>\n",
       "      <td>99508</td>\n",
       "    </tr>\n",
       "    <tr>\n",
       "      <th>3035</th>\n",
       "      <td>Mozambique</td>\n",
       "      <td>Xai-Xai</td>\n",
       "      <td>99442</td>\n",
       "    </tr>\n",
       "    <tr>\n",
       "      <th>2539</th>\n",
       "      <td>Brazil</td>\n",
       "      <td>Camaragibe</td>\n",
       "      <td>99407</td>\n",
       "    </tr>\n",
       "    <tr>\n",
       "      <th>2857</th>\n",
       "      <td>Nigeria</td>\n",
       "      <td>Kaduna</td>\n",
       "      <td>993642</td>\n",
       "    </tr>\n",
       "    <tr>\n",
       "      <th>56</th>\n",
       "      <td>France</td>\n",
       "      <td>Nancy</td>\n",
       "      <td>99351</td>\n",
       "    </tr>\n",
       "    <tr>\n",
       "      <th>486</th>\n",
       "      <td>Russia</td>\n",
       "      <td>Kazan</td>\n",
       "      <td>992675</td>\n",
       "    </tr>\n",
       "  </tbody>\n",
       "</table>\n",
       "</div>"
      ],
      "text/plain": [
       "         country        city population\n",
       "176      Germany     Cottbus      99984\n",
       "519       Russia        Perm     999157\n",
       "173      Germany    Erlangen      99808\n",
       "2752     Algeria    Laghouat      99536\n",
       "2461      Brazil  Alagoinhas      99508\n",
       "3035  Mozambique     Xai-Xai      99442\n",
       "2539      Brazil  Camaragibe      99407\n",
       "2857     Nigeria      Kaduna     993642\n",
       "56        France       Nancy      99351\n",
       "486       Russia       Kazan     992675"
      ]
     },
     "execution_count": 26,
     "metadata": {},
     "output_type": "execute_result"
    }
   ],
   "source": [
    "## Q2 ## - Find 10 cities with highest Population\n",
    "\n",
    "# create empty list to append country, city, & population\n",
    "city_pop = []\n",
    "# utilizing the xml library ElementTree\n",
    "# iterate through countries then...\n",
    "for element in doc.iterfind('country'): \n",
    "    cntry = element.find('name').text\n",
    "    # ..iterate through each city\n",
    "    for subel in element.getiterator('city'):\n",
    "        city = subel.find('name').text\n",
    "        # exclude those that have no data for city population\n",
    "        if subel.find('population') is not None:\n",
    "            pop = subel.find('population').text\n",
    "            city_pop.append([cntry, city, pop])\n",
    "# create pandas dataframe from list of lists\n",
    "cityPop = pd.DataFrame(city_pop, columns=['country', 'city', 'population'])\n",
    "# sort descending by city population and show largest 10 with head method\n",
    "print('Top 10 Cities by Population')\n",
    "cityPop.sort_values('population', ascending=False).head(10)"
   ]
  },
  {
   "cell_type": "code",
   "execution_count": 27,
   "metadata": {
    "collapsed": false
   },
   "outputs": [
    {
     "name": "stdout",
     "output_type": "stream",
     "text": [
      "Top 10 World Ethnic Groups by Population across All included Countries\n"
     ]
    },
    {
     "data": {
      "text/html": [
       "<div>\n",
       "<table border=\"1\" class=\"dataframe\">\n",
       "  <thead>\n",
       "    <tr style=\"text-align: right;\">\n",
       "      <th></th>\n",
       "      <th>ethnicPer</th>\n",
       "      <th>countryPop</th>\n",
       "      <th>ethnicPop</th>\n",
       "    </tr>\n",
       "    <tr>\n",
       "      <th>ethnicGroup</th>\n",
       "      <th></th>\n",
       "      <th></th>\n",
       "      <th></th>\n",
       "    </tr>\n",
       "  </thead>\n",
       "  <tbody>\n",
       "    <tr>\n",
       "      <th>Han Chinese</th>\n",
       "      <td>91.50</td>\n",
       "      <td>543776080</td>\n",
       "      <td>497555113</td>\n",
       "    </tr>\n",
       "    <tr>\n",
       "      <th>European</th>\n",
       "      <td>970.82</td>\n",
       "      <td>362717873</td>\n",
       "      <td>192865792</td>\n",
       "    </tr>\n",
       "    <tr>\n",
       "      <th>Indo-Aryan</th>\n",
       "      <td>72.00</td>\n",
       "      <td>238396327</td>\n",
       "      <td>171645355</td>\n",
       "    </tr>\n",
       "    <tr>\n",
       "      <th>Russian</th>\n",
       "      <td>224.10</td>\n",
       "      <td>202263854</td>\n",
       "      <td>92758431</td>\n",
       "    </tr>\n",
       "    <tr>\n",
       "      <th>African</th>\n",
       "      <td>1868.55</td>\n",
       "      <td>357529690</td>\n",
       "      <td>86329356</td>\n",
       "    </tr>\n",
       "    <tr>\n",
       "      <th>Japanese</th>\n",
       "      <td>99.40</td>\n",
       "      <td>82199470</td>\n",
       "      <td>81706273</td>\n",
       "    </tr>\n",
       "    <tr>\n",
       "      <th>German</th>\n",
       "      <td>165.60</td>\n",
       "      <td>145710759</td>\n",
       "      <td>66232183</td>\n",
       "    </tr>\n",
       "    <tr>\n",
       "      <th>Dravidian</th>\n",
       "      <td>25.00</td>\n",
       "      <td>238396327</td>\n",
       "      <td>59599081</td>\n",
       "    </tr>\n",
       "    <tr>\n",
       "      <th>English</th>\n",
       "      <td>83.60</td>\n",
       "      <td>50616012</td>\n",
       "      <td>42314986</td>\n",
       "    </tr>\n",
       "    <tr>\n",
       "      <th>Mestizo</th>\n",
       "      <td>870.70</td>\n",
       "      <td>67185932</td>\n",
       "      <td>35542318</td>\n",
       "    </tr>\n",
       "  </tbody>\n",
       "</table>\n",
       "</div>"
      ],
      "text/plain": [
       "             ethnicPer  countryPop  ethnicPop\n",
       "ethnicGroup                                  \n",
       "Han Chinese      91.50   543776080  497555113\n",
       "European        970.82   362717873  192865792\n",
       "Indo-Aryan       72.00   238396327  171645355\n",
       "Russian         224.10   202263854   92758431\n",
       "African        1868.55   357529690   86329356\n",
       "Japanese         99.40    82199470   81706273\n",
       "German          165.60   145710759   66232183\n",
       "Dravidian        25.00   238396327   59599081\n",
       "English          83.60    50616012   42314986\n",
       "Mestizo         870.70    67185932   35542318"
      ]
     },
     "execution_count": 27,
     "metadata": {},
     "output_type": "execute_result"
    }
   ],
   "source": [
    "## Q3 ## - Find the 10 Ethnic Groups with the Highest Population\n",
    "\n",
    "eth_pop = []\n",
    "# create empty list to append ethnic groups,...\n",
    "# ...their percentage size in the country, and...\n",
    "# ...population from their country\n",
    "# iterate over countries and find each ethnic group\n",
    "# record ethnic group name and pop\n",
    "for element in doc.iterfind('country'):\n",
    "    for subel in element.iterfind('ethnicgroup'):\n",
    "        pop = element.find('population').text\n",
    "        ethnicity = subel.text\n",
    "        ethPer = subel.attrib['percentage']\n",
    "        eth_pop.append([ethnicity, float(ethPer), int(pop)])\n",
    "        \n",
    "# dataframe from lists\n",
    "ethPop = pd.DataFrame(eth_pop, columns=['ethnicGroup', 'ethnicPer', 'countryPop'])\n",
    "# compute estimate of ethnic Population for each country\n",
    "ethPop['ethnicPop'] = ((ethPop.ethnicPer/100) * ethPop.countryPop).astype('int')\n",
    "print('Top 10 World Ethnic Groups by Population across All included Countries')\n",
    "ethPop.groupby('ethnicGroup').sum().sort_values('ethnicPop', ascending=False).head(10)\n",
    "        "
   ]
  },
  {
   "cell_type": "code",
   "execution_count": 21,
   "metadata": {
    "collapsed": false
   },
   "outputs": [],
   "source": [
    "## Q4 ## - Function to return locale name, size, and countries data arrray\n",
    "def localeSize(locale, metric):\n",
    "    '''\n",
    "    Function to return locale name, size, and countries data arrray.\n",
    "    Accepts two string arguments for locale and size metric\n",
    "    '''\n",
    "    # create empty list placeholder\n",
    "    locales = []\n",
    "    # utilizing the xml library ElementTree\n",
    "    # iterate through locales finding the size and countries...\n",
    "    for element in doc.iterfind(locale): \n",
    "        if element.find(metric) is not None and element.find(metric).text is not None:\n",
    "            locale = element.find('name').text\n",
    "            size = element.find(metric).text\n",
    "            countryId = element.attrib['country']\n",
    "            # append name, size and countries list to output list\n",
    "            locales.append([locale, size, countryId])\n",
    "    return locales"
   ]
  },
  {
   "cell_type": "code",
   "execution_count": 22,
   "metadata": {
    "collapsed": false
   },
   "outputs": [
    {
     "name": "stdout",
     "output_type": "stream",
     "text": [
      "Amazonas River running through countries CO BR PE is the longest river: 6448 km (in these data)\n"
     ]
    }
   ],
   "source": [
    "## Q4 ## - Find the longest River and its countries\n",
    "# call function with appropriate locale and metric\n",
    "rivers = localeSize('river', 'length')\n",
    "# convert size values to float\n",
    "lengths = [float(r[1]) for r in rivers]\n",
    "# find index of maximum River size\n",
    "midx = lengths.index(max(lengths))\n",
    "# use max index to access the name and countries in the rivers lists\n",
    "print('{0} River running through countries {2} is the longest river: {1} km (in these data)'.format(rivers[midx][0], rivers[midx][1], rivers[midx][2]))"
   ]
  },
  {
   "cell_type": "code",
   "execution_count": 28,
   "metadata": {
    "collapsed": false
   },
   "outputs": [
    {
     "name": "stdout",
     "output_type": "stream",
     "text": [
      "Caspian Sea in countries R AZ KAZ IR TM is the largest lake by area: 386400 km^2 (in these data)\n"
     ]
    }
   ],
   "source": [
    "## Q4 ## - Find the largest lake and its country\n",
    "# call function with appropriate locale and metric\n",
    "lakes = localeSize('lake', 'area')\n",
    "# convert size values to float\n",
    "areas = [float(a[1]) for a in lakes]\n",
    "# find index of maximum Lake size\n",
    "midx = areas.index(max(areas))\n",
    "# use max index to access the name and countries in the lakes lists\n",
    "print('{0} in countries {2} is the largest lake by area: {1} km^2 (in these data)'.format(lakes[midx][0], lakes[midx][1], lakes[midx][2]))"
   ]
  },
  {
   "cell_type": "code",
   "execution_count": 25,
   "metadata": {
    "collapsed": false
   },
   "outputs": [
    {
     "name": "stdout",
     "output_type": "stream",
     "text": [
      "El Alto Intl Airport in countries BOL is the highest airport by elevation: 4063 m (in these data)\n"
     ]
    }
   ],
   "source": [
    "## Q4 ## - Find the highest elevated Airport and its country\n",
    "# call function with appropriate locale and metric\n",
    "airports = localeSize('airport', 'elevation')\n",
    "# convert size values to float\n",
    "elevations = [float(a[1]) for a in airports]\n",
    "# find index of maximum airport elevation\n",
    "midx = elevations.index(max(elevations))\n",
    "# use max index to access the name and countries in the airports lists\n",
    "print('{0} Airport in countries {2} is the highest airport by elevation: {1} m (in these data)'.format(airports[midx][0], airports[midx][1], airports[midx][2]))"
   ]
  }
 ],
 "metadata": {
  "kernelspec": {
   "display_name": "Python 2",
   "language": "python",
   "name": "python2"
  },
  "language_info": {
   "codemirror_mode": {
    "name": "ipython",
    "version": 2
   },
   "file_extension": ".py",
   "mimetype": "text/x-python",
   "name": "python",
   "nbconvert_exporter": "python",
   "pygments_lexer": "ipython2",
   "version": "2.7.13"
  }
 },
 "nbformat": 4,
 "nbformat_minor": 0
}
